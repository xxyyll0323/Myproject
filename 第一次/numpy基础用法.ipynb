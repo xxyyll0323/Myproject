{
 "cells": [
  {
   "cell_type": "markdown",
   "metadata": {},
   "source": [
    "### 1.创建数组"
   ]
  },
  {
   "cell_type": "code",
   "execution_count": 22,
   "metadata": {},
   "outputs": [],
   "source": [
    "import numpy as np\n",
    "\n",
    "# 从列表创建数组\n",
    "a = np.array([1, 2, 3])          # 一维数组 → [1 2 3]\n",
    "b = np.array([[1, 2], [3, 4]])   # 二维数组 → [[1 2], [3 4]]\n",
    "\n",
    "# 特殊数组生成\n",
    "zeros = np.zeros((2, 3))         # 全0数组 → [[0. 0. 0.], [0. 0. 0.]]\n",
    "ones = np.ones((2, 2))           # 全1数组 → [[1. 1.], [1. 1.]]\n",
    "range_arr = np.arange(0, 10, 2)  # 等差数列 → [0 2 4 6 8]"
   ]
  },
  {
   "cell_type": "markdown",
   "metadata": {},
   "source": [
    "### 2.数组操作"
   ]
  },
  {
   "cell_type": "code",
   "execution_count": null,
   "metadata": {},
   "outputs": [],
   "source": [
    "# 形状操作\n",
    "arr = np.array([[1, 2], [3, 4]])\n",
    "print(arr.shape)     # 输出形状 → (2, 2)\n",
    "reshape_arr = arr.reshape(4)    # 展平 → [1 2 3 4]\n",
    "\n",
    "# 切片与索引\n",
    "print(arr[1, 0])    # 第二行第一列 → 3\n",
    "print(arr[:, 1])     # 所有行的第二列 → [2 4]\n",
    "\n",
    "# 合并数组\n",
    "a = np.array([1, 2])\n",
    "b = np.array([3, 4])\n",
    "c = np.concatenate([a, b])  # 合并 → [1 2 3 4]\n",
    "print(c)"
   ]
  },
  {
   "cell_type": "markdown",
   "metadata": {},
   "source": [
    "### 3.数学运算"
   ]
  },
  {
   "cell_type": "code",
   "execution_count": null,
   "metadata": {},
   "outputs": [],
   "source": [
    "# 基本运算（逐元素计算）\n",
    "a = np.array([1, 2])\n",
    "b = np.array([3, 4])\n",
    "print(a + b)   # 加法 → [4 6]\n",
    "print(a * 2)   # 标量乘法 → [2 4]\n",
    "print(np.sqrt(a))  # 平方根 → [1. 1.414]\n",
    "\n",
    "# 矩阵乘法\n",
    "mat_a = np.array([[1, 2], [3, 4]])\n",
    "mat_b = np.array([[5, 6], [7, 8]])\n",
    "result = mat_a @ mat_b  # 或 np.dot(mat_a, mat_b)\n",
    "print(result)# 输出 → [[19 22], [43 50]]"
   ]
  },
  {
   "cell_type": "markdown",
   "metadata": {},
   "source": [
    "### 4.统计函数"
   ]
  },
  {
   "cell_type": "code",
   "execution_count": 1,
   "metadata": {
    "scrolled": false
   },
   "outputs": [
    {
     "ename": "NameError",
     "evalue": "name 'np' is not defined",
     "output_type": "error",
     "traceback": [
      "\u001b[1;31m---------------------------------------------------------------------------\u001b[0m",
      "\u001b[1;31mNameError\u001b[0m                                 Traceback (most recent call last)",
      "\u001b[1;32m<ipython-input-1-0ef6a651fe69>\u001b[0m in \u001b[0;36m<module>\u001b[1;34m()\u001b[0m\n\u001b[1;32m----> 1\u001b[1;33m \u001b[0marr\u001b[0m \u001b[1;33m=\u001b[0m \u001b[0mnp\u001b[0m\u001b[1;33m.\u001b[0m\u001b[0marray\u001b[0m\u001b[1;33m(\u001b[0m\u001b[1;33m[\u001b[0m\u001b[1;36m1\u001b[0m\u001b[1;33m,\u001b[0m \u001b[1;36m2\u001b[0m\u001b[1;33m,\u001b[0m \u001b[1;36m3\u001b[0m\u001b[1;33m,\u001b[0m \u001b[1;36m4\u001b[0m\u001b[1;33m]\u001b[0m\u001b[1;33m)\u001b[0m\u001b[1;33m\u001b[0m\u001b[0m\n\u001b[0m\u001b[0;32m      2\u001b[0m \u001b[0mprint\u001b[0m\u001b[1;33m(\u001b[0m\u001b[0marr\u001b[0m\u001b[1;33m.\u001b[0m\u001b[0mmean\u001b[0m\u001b[1;33m(\u001b[0m\u001b[1;33m)\u001b[0m\u001b[1;33m)\u001b[0m   \u001b[1;31m# 均值 → 2.5\u001b[0m\u001b[1;33m\u001b[0m\u001b[0m\n\u001b[0;32m      3\u001b[0m \u001b[0mprint\u001b[0m\u001b[1;33m(\u001b[0m\u001b[0marr\u001b[0m\u001b[1;33m.\u001b[0m\u001b[0mmax\u001b[0m\u001b[1;33m(\u001b[0m\u001b[1;33m)\u001b[0m\u001b[1;33m)\u001b[0m    \u001b[1;31m# 最大值 → 4\u001b[0m\u001b[1;33m\u001b[0m\u001b[0m\n\u001b[0;32m      4\u001b[0m \u001b[0mprint\u001b[0m\u001b[1;33m(\u001b[0m\u001b[0marr\u001b[0m\u001b[1;33m.\u001b[0m\u001b[0msum\u001b[0m\u001b[1;33m(\u001b[0m\u001b[1;33m)\u001b[0m\u001b[1;33m)\u001b[0m    \u001b[1;31m# 求和 → 10\u001b[0m\u001b[1;33m\u001b[0m\u001b[0m\n\u001b[0;32m      5\u001b[0m \u001b[0mprint\u001b[0m\u001b[1;33m(\u001b[0m\u001b[0mnp\u001b[0m\u001b[1;33m.\u001b[0m\u001b[0mstd\u001b[0m\u001b[1;33m(\u001b[0m\u001b[0marr\u001b[0m\u001b[1;33m)\u001b[0m\u001b[1;33m)\u001b[0m  \u001b[1;31m# 标准差 → 1.118\u001b[0m\u001b[1;33m\u001b[0m\u001b[0m\n",
      "\u001b[1;31mNameError\u001b[0m: name 'np' is not defined"
     ]
    }
   ],
   "source": [
    "arr = np.array([1, 2, 3, 4])\n",
    "print(arr.mean())   # 均值 → 2.5\n",
    "print(arr.max())    # 最大值 → 4\n",
    "print(arr.sum())    # 求和 → 10\n",
    "print(np.std(arr))  # 标准差 → 1.118"
   ]
  },
  {
   "cell_type": "markdown",
   "metadata": {},
   "source": [
    "### 5.广播机制"
   ]
  },
  {
   "cell_type": "code",
   "execution_count": null,
   "metadata": {},
   "outputs": [],
   "source": [
    "a = np.array([[1], [2], [3]])  # 形状 (3,1)\n",
    "b = np.array([4, 5])           # 形状 (2,)\n",
    "print(a + b)  # 自动扩展 → [[5 6], [6 7], [7 8]]"
   ]
  },
  {
   "cell_type": "markdown",
   "metadata": {},
   "source": [
    "以上是短暂收集到的一些基本的使用方法，具体更详细的后续过程补充"
   ]
  }
 ],
 "metadata": {
  "kernelspec": {
   "display_name": "Python 3",
   "language": "python",
   "name": "python3"
  },
  "language_info": {
   "codemirror_mode": {
    "name": "ipython",
    "version": 3
   },
   "file_extension": ".py",
   "mimetype": "text/x-python",
   "name": "python",
   "nbconvert_exporter": "python",
   "pygments_lexer": "ipython3",
   "version": "3.7.0"
  }
 },
 "nbformat": 4,
 "nbformat_minor": 2
}
