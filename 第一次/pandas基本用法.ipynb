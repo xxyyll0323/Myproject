{
 "cells": [
  {
   "cell_type": "markdown",
   "metadata": {},
   "source": [
    "### 1.数据结构"
   ]
  },
  {
   "cell_type": "code",
   "execution_count": 5,
   "metadata": {},
   "outputs": [],
   "source": [
    "import pandas as pd\n",
    "\n",
    "# 创建Series（一维数据）\n",
    "s = pd.Series([1, 3, 5])  \n",
    "print(s)        # → 0:1, 1:3, 2:5\n",
    "\n",
    "# 创建DataFrame（二维表格）\n",
    "data = {'Name': ['Alice', 'Bob'], 'Age': [25, 30]}\n",
    "df = pd.DataFrame(data)\n",
    "print(df) # 输出 →\n",
    "          #    Name  Age\n",
    "          # 0 Alice   25\n",
    "          # 1   Bob   30"
   ]
  },
  {
   "cell_type": "markdown",
   "metadata": {},
   "source": [
    "### 2.读取数据"
   ]
  },
  {
   "cell_type": "code",
   "execution_count": null,
   "metadata": {},
   "outputs": [],
   "source": [
    "# 从CSV文件读取\n",
    "df = pd.read_csv('data.csv')  \n",
    "# 从Excel读取\n",
    "df = pd.read_excel('data.xlsx')"
   ]
  },
  {
   "cell_type": "markdown",
   "metadata": {},
   "source": [
    "### 3.查看数据"
   ]
  },
  {
   "cell_type": "code",
   "execution_count": null,
   "metadata": {},
   "outputs": [],
   "source": [
    "print(df.head(2))   # 查看前2行\n",
    "print(df.tail(1))    # 查看最后1行\n",
    "print(df.shape)      # 行数和列数 → (2, 2)\n",
    "print(df.describe()) # 统计摘要（均值、标准差等）"
   ]
  },
  {
   "cell_type": "markdown",
   "metadata": {},
   "source": [
    "### 4.数据筛选"
   ]
  },
  {
   "cell_type": "code",
   "execution_count": null,
   "metadata": {},
   "outputs": [],
   "source": [
    "# 选择列\n",
    "ages = df['Age']          # → Series [25, 30]\n",
    "name_age = df[['Name', 'Age']]  # 多列 → DataFrame\n",
    "\n",
    "# 按行筛选\n",
    "row_0 = df.iloc[0]        # 第一行 → Name:Alice, Age:25\n",
    "row_bob = df[df['Name'] == 'Bob']  # 条件筛选 → Bob的行\n",
    "\n",
    "# 按位置筛选（行:列）\n",
    "subset = df.iloc[0:2, 1:3]  # 第0-1行，第1-2列"
   ]
  },
  {
   "cell_type": "markdown",
   "metadata": {},
   "source": [
    "### 5.处理缺失值"
   ]
  },
  {
   "cell_type": "code",
   "execution_count": null,
   "metadata": {},
   "outputs": [],
   "source": [
    "# 删除含缺失值的行\n",
    "df_clean = df.dropna()  \n",
    "# 填充缺失值\n",
    "df_filled = df.fillna(0)          # 用0填充\n",
    "df_filled = df.fillna(df.mean())  # 用均值填充"
   ]
  },
  {
   "cell_type": "markdown",
   "metadata": {},
   "source": [
    "### 6.分组与聚合"
   ]
  },
  {
   "cell_type": "code",
   "execution_count": null,
   "metadata": {},
   "outputs": [],
   "source": [
    "# 按列分组并聚合\n",
    "grouped = df.groupby('Name')['Age'].mean()  # 计算每个名字的平均年龄\n",
    "# 复杂聚合\n",
    "df.groupby('City').agg({'Salary': ['mean', 'max'], 'Age': 'count'})"
   ]
  },
  {
   "cell_type": "markdown",
   "metadata": {},
   "source": [
    "### 7.合并数据"
   ]
  },
  {
   "cell_type": "code",
   "execution_count": 6,
   "metadata": {},
   "outputs": [],
   "source": [
    "# 横向合并（类似SQL JOIN）\n",
    "df1 = pd.DataFrame({'Key': ['A', 'B'], 'Value': [1, 2]})\n",
    "df2 = pd.DataFrame({'Key': ['A', 'C'], 'Value': [3, 4]})\n",
    "merged = pd.merge(df1, df2, on='Key', how='left')  # 左连接\n",
    "\n",
    "# 纵向合并（堆叠）\n",
    "combined = pd.concat([df1, df2], axis=0)  # 按行合并"
   ]
  },
  {
   "cell_type": "markdown",
   "metadata": {},
   "source": [
    "### 8.数据输出"
   ]
  },
  {
   "cell_type": "code",
   "execution_count": null,
   "metadata": {},
   "outputs": [],
   "source": [
    "df.to_csv('output.csv', index=False)  # 保存为CSV（不保留索引）\n",
    "df.to_excel('output.xlsx', sheet_name='Sheet1')"
   ]
  }
 ],
 "metadata": {
  "kernelspec": {
   "display_name": "Python 3",
   "language": "python",
   "name": "python3"
  },
  "language_info": {
   "codemirror_mode": {
    "name": "ipython",
    "version": 3
   },
   "file_extension": ".py",
   "mimetype": "text/x-python",
   "name": "python",
   "nbconvert_exporter": "python",
   "pygments_lexer": "ipython3",
   "version": "3.7.0"
  }
 },
 "nbformat": 4,
 "nbformat_minor": 2
}
